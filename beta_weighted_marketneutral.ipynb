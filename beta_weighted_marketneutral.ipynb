{
 "cells": [
  {
   "cell_type": "code",
   "execution_count": 260,
   "metadata": {},
   "outputs": [],
   "source": [
    "import pandas as pd\n",
    "import numpy as np \n",
    "from matplotlib import pyplot as plt \n",
    "import yfinance as yf \n",
    "from datetime import datetime as dt "
   ]
  },
  {
   "cell_type": "code",
   "execution_count": 261,
   "metadata": {},
   "outputs": [
    {
     "name": "stdout",
     "output_type": "stream",
     "text": [
      "entreprise long : ['VNA.DE' 'DB1.DE' 'SU' 'ASML' 'NOK' 'ISP.MI' 'KER.PA' 'RMS.PA' 'SAP'\n",
      " 'ITX.MC' 'ALV' 'UCG.MI' 'DHL.DE' 'IFX.DE' 'AI']\n",
      "entreprise short : ['AD.AS' 'STLA' '1NBA.DE' 'SAF' 'UNVB.DU' 'BMW.DE' 'BAS.DE' 'AIR' 'BNP.PA'\n",
      " 'BAYN.DE' 'SIE.DE' 'TTE' 'ENI.MI' 'DG' 'VOW.DE']\n"
     ]
    }
   ],
   "source": [
    "data= pd.read_excel(r'C:\\Users\\rmnma\\OneDrive\\Bureau\\essaie extraction python.xlsx')\n",
    "pd.read_excel(r'C:\\Users\\rmnma\\OneDrive\\Bureau\\essaie extraction python.xlsx')\n",
    "\n",
    "data = data.iloc[0:51]\n",
    "data = data.dropna(how='all', axis=1)\n",
    "\n",
    "tickers = data['Ticker'].tolist()\n",
    "\n",
    "\n",
    "# Entreprises long et short\n",
    "n = int(len(data) * 0.3) \n",
    "shorts = data.tail(n)['Ticker'].values\n",
    "longs = data.head(n)['Ticker'].values\n",
    "\n",
    "print(f\"entreprise long : {longs}\")\n",
    "print(f\"entreprise short : {shorts}\")\n",
    "\n",
    "tickers = ['^STOXX50E'] +[i for i in tickers ]\n",
    "nb_val = len(tickers)\n",
    "\n",
    "#print(\"Tickers: \", tickers)\n"
   ]
  },
  {
   "cell_type": "code",
   "execution_count": 262,
   "metadata": {},
   "outputs": [
    {
     "name": "stderr",
     "output_type": "stream",
     "text": [
      "[*********************100%%**********************]  51 of 51 completed\n"
     ]
    }
   ],
   "source": [
    "def get_data(tickers):\n",
    "   df = yf.download(tickers, start = \"2018-01-01\", end = \"2024-10-23\")['Adj Close']\n",
    "   return df \n",
    "\n",
    "df = get_data(tickers)\n",
    "df = df[tickers]\n",
    "\n"
   ]
  },
  {
   "cell_type": "code",
   "execution_count": 263,
   "metadata": {},
   "outputs": [],
   "source": [
    "log_returns = np.log(df/df.shift(1)).dropna()\n"
   ]
  },
  {
   "cell_type": "code",
   "execution_count": 264,
   "metadata": {},
   "outputs": [],
   "source": [
    "def calc_beta(df):\n",
    "    np_array = df.values\n",
    "    m= np_array[:,0] \n",
    "    beta =[]\n",
    "\n",
    "    for ind, col in enumerate(df):\n",
    "        if ind > 0 : \n",
    "            s = np_array[:,ind]\n",
    "            covariance = np.cov(s,m)\n",
    "            beta.append(covariance[0,1]/covariance[1,1])\n",
    "            \n",
    "    return pd.Series(beta,  df.columns[1:],name= 'Beta')\n",
    "\n",
    "\n",
    "beta = calc_beta(log_returns)\n",
    "\n"
   ]
  },
  {
   "cell_type": "code",
   "execution_count": 265,
   "metadata": {},
   "outputs": [],
   "source": [
    "beta_long = beta[longs]\n",
    "beta_short= beta[shorts]\n",
    "\n",
    "#Valeurs absolue des Betas \n",
    "abs_beta_long = np.abs(beta_long)\n",
    "abs_beta_short = np.abs(beta_short)"
   ]
  },
  {
   "cell_type": "code",
   "execution_count": 266,
   "metadata": {},
   "outputs": [],
   "source": [
    "weight_long = np.round(abs_beta_long/abs_beta_long.sum(),5)\n",
    "weight_short =  np.round(abs_beta_short/abs_beta_short.sum()*-1,5)\n",
    "\n",
    "\n",
    "beta_weighted_long = beta_long * weight_long\n",
    "beta_weighted_short = beta_short * weight_short\n",
    "beta_net = np.sum(beta_weighted_long) + np.sum(beta_weighted_short)\n"
   ]
  },
  {
   "cell_type": "code",
   "execution_count": null,
   "metadata": {},
   "outputs": [],
   "source": [
    "pf_long = pd.DataFrame({\n",
    "    'stocks long ': longs,\n",
    "    'beta long ': beta_long,\n",
    "    'weight long' : weight_long,\n",
    "    'Beta weighted long' : beta_weighted_long, \n",
    "    '       ' : '          '\n",
    "})\n",
    "\n",
    "pf_short = pd.DataFrame({\n",
    "    'stocks short' : shorts,\n",
    "    'beta short' : beta_short, \n",
    "    'weight short ' : weight_short,\n",
    "    'beta weighted short': beta_weighted_short \n",
    "    \n",
    "})\n",
    "\n",
    "pf_long = pf_long.reset_index(drop=True)\n",
    "pf_short = pf_short.reset_index(drop=True)\n",
    "\n",
    "portfolio = pd.merge(pf_long, pf_short, on=pf_long.index)\n",
    "portfolio.loc['total',['weight long', 'Beta weighted long', 'weight short ', 'beta weighted short']] = \\\n",
    "    np.round(portfolio[['weight long','Beta weighted long','weight short ', 'beta weighted short']].sum(),2)\n",
    "\n",
    "total_value = np.round(portfolio.loc[portfolio.index[-1], ['Beta weighted long', 'beta weighted short']].sum(),4)\n",
    "portfolio.loc['total', 'Total beta portefeuille'] = total_value\n",
    "portfolio['Total beta portefeuille'] = portfolio['Total beta portefeuille'].apply(lambda x: '{:^10}'.format(x) if isinstance(x, (int, float)) else x)\n",
    "\n",
    "portfolio.drop(portfolio.columns[0], axis=1)"
   ]
  },
  {
   "cell_type": "code",
   "execution_count": null,
   "metadata": {},
   "outputs": [],
   "source": []
  }
 ],
 "metadata": {
  "kernelspec": {
   "display_name": "myenv",
   "language": "python",
   "name": "python3"
  },
  "language_info": {
   "codemirror_mode": {
    "name": "ipython",
    "version": 3
   },
   "file_extension": ".py",
   "mimetype": "text/x-python",
   "name": "python",
   "nbconvert_exporter": "python",
   "pygments_lexer": "ipython3",
   "version": "3.11.9"
  }
 },
 "nbformat": 4,
 "nbformat_minor": 2
}
